{
  "nbformat": 4,
  "nbformat_minor": 0,
  "metadata": {
    "colab": {
      "provenance": []
    },
    "kernelspec": {
      "name": "python3",
      "display_name": "Python 3"
    },
    "language_info": {
      "name": "python"
    }
  },
  "cells": [
    {
      "cell_type": "markdown",
      "source": [
        "## Data Types and Structures Questions\n"
      ],
      "metadata": {
        "id": "S9DGq8ofeYfJ"
      }
    },
    {
      "cell_type": "markdown",
      "source": [
        "1. What are data structures, and why are they important?\n",
        "    \n",
        "    -> In Python, data structures are used to store and organize data so that it can be used efficiently. Python has built-in data structures and also allows you to create custom data structures using classes and modules.\n",
        "    \n",
        "    Why Are Data Structures Important in Python?\n",
        "    \n",
        "*  Efficient Coding: Choosing the right data structure can make your  program faster and cleaner.\n",
        "* Simplicity: Python’s built-in data structures are easy to use and very powerful.\n",
        "* Support for Algorithms: Many algorithms work best with specific data structures.\n",
        "* Real-world Applications: From web development to data science, managing data properly is essential."
      ],
      "metadata": {
        "id": "C4lw09R0eh8l"
      }
    },
    {
      "cell_type": "code",
      "source": [
        "#2.  Explain the difference between mutable and immutable data types with examples?\n",
        "\n",
        "# -> MUTABLE DATA TYPES.\n",
        "# Mutable objects can be changed after they are created.\n",
        "# Example:\n",
        "my_list = [1, 2, 3]\n",
        "my_list[0] = 10\n",
        "print(my_list)\n",
        "\n",
        "# IMMUTABLE DATA TYPES.\n",
        "# Immutable objects cannot be changed once they are created. If you try to modify them, Python creates a new object.\n",
        "# Example:\n",
        "name = \"Kirti\"\n",
        "new_name = \"M\" + name[1:]\n",
        "print(new_name)\n"
      ],
      "metadata": {
        "colab": {
          "base_uri": "https://localhost:8080/"
        },
        "id": "U1zV94xmZa8p",
        "outputId": "b8cc7ff3-656b-40a7-9d14-ca31b8922685"
      },
      "execution_count": null,
      "outputs": [
        {
          "output_type": "stream",
          "name": "stdout",
          "text": [
            "[10, 2, 3]\n",
            "Mirti\n"
          ]
        }
      ]
    },
    {
      "cell_type": "markdown",
      "source": [
        "3. What are the main differences between lists and tuples in Python?\n",
        "\n",
        "  \n",
        "1. **Mutability**:\n",
        "   - **List**: Lists are *mutable*, which means their elements can be changed, added, or removed after the list is created.\n",
        "   - **Tuple**: Tuples are *immutable*, meaning once a tuple is created, its contents cannot be altered.\n",
        "\n",
        "2. **Syntax**:\n",
        "   - **List**: Defined using square brackets `[]`.  \n",
        "     Example: `my_list = [1, 2, 3]`\n",
        "   - **Tuple**: Defined using parentheses `()`.  \n",
        "     Example: `my_tuple = (1, 2, 3)`\n",
        "\n",
        "3. **Performance**:\n",
        "   - Tuples are generally *faster* than lists because of their immutability.\n",
        "   - This makes tuples more efficient in situations where a constant set of values is needed.\n",
        "\n",
        "4. **Methods Available**:\n",
        "   - **Lists** have more built-in methods such as `append()`, `remove()`, `pop()`, and `sort()` because they are designed for dynamic operations.\n",
        "   - **Tuples** have fewer methods, mainly `count()` and `index()`, due to their immutable nature.\n",
        "\n",
        "5. **Use Cases**:\n",
        "   - **List**: Used when the collection of data may need to be modified (e.g., adding or removing elements).\n",
        "   - **Tuple**: Used when the data should remain constant throughout the program (e.g., representing fixed values like coordinates or days of the week).\n",
        "\n",
        "6. **Memory Consumption**:\n",
        "   - Tuples consume *less memory* compared to lists, which makes them preferable in cases where memory optimization is important.\n",
        "\n"
      ],
      "metadata": {
        "id": "bZKUXaiqaQ9a"
      }
    },
    {
      "cell_type": "markdown",
      "source": [
        "4.Describe how dictionaries store data.\n",
        "\n",
        "   -> Dictionaries in Python store data using key-value pairs, with hashing used internally for efficient access. They are ideal for situations where you need to associate a unique identifier (key) with some data (value), like storing student records, configuration settings, etc."
      ],
      "metadata": {
        "id": "dcYriKIqbOtm"
      }
    },
    {
      "cell_type": "markdown",
      "source": [
        "5. Why might you use a set instead of a list in Python?\n",
        "\n",
        "   -> In Python, you might use a set instead of a list when you want to store only unique elements, since sets automatically remove duplicates. Sets are also faster than lists when it comes to checking if an item exists, because they use hashing for lookups. Additionally, sets support useful operations like union, intersection, and difference, which makes them ideal for comparing or combining collections of data. Unlike lists, sets are unordered, so they’re best used when the order of elements doesn’t matter.\n",
        "    "
      ],
      "metadata": {
        "id": "Ax_yAo4hbW5w"
      }
    },
    {
      "cell_type": "markdown",
      "source": [
        "6. What is a string in Python, and how is it different from a list?\n",
        "\n",
        "    -> In Python, a string is a sequence of characters enclosed within single (') or double (\") quotes, like 'Hello' or \"Python\". It is used to represent text data.\n",
        "\n",
        "    The main difference between a string and a list is that a string is immutable, meaning its characters cannot be changed after it is created, while a list is mutable and allows changes to its elements. Also, although both are sequences and support indexing, slicing, and iteration, a string can only contain characters, whereas a list can hold elements of any data type, such as numbers, strings, or even other lists.\n",
        "\n",
        "    For example, in a string \"cat\", you can access each character using an index (\"cat\"[0] gives 'c'), but you can't modify it directly. In a list ['c', 'a', 't'], you can change elements (my_list[0] = 'b'), making it 'bat'."
      ],
      "metadata": {
        "id": "KNmL4uhLb6RK"
      }
    },
    {
      "cell_type": "markdown",
      "source": [
        "7. How do tuples ensure data integrity in Python?\n",
        "\n",
        "    -> In Python, tuples ensure data integrity by being immutable, meaning their contents cannot be changed after creation. Once you create a tuple, you cannot modify, add, or remove any elements from it. This immutability protects the data from accidental or intentional modification during the program's execution."
      ],
      "metadata": {
        "id": "ivz5JtdZcO7E"
      }
    },
    {
      "cell_type": "markdown",
      "source": [
        "8. What is a hash table, and how does it relate to dictionaries in Python?\n",
        "  \n",
        "    -> A hash table is a data structure that stores data in an associative manner, meaning it maps keys to values using a process called hashing. Hashing involves passing the key through a hash function that converts it into a unique index in memory where the corresponding value is stored.\n",
        "\n",
        "    In Python, the dictionary (dict) is implemented using a hash table internally. When you create a dictionary, each key is hashed to determine where its value will be stored in memory. This allows dictionaries to provide very fast access, insertion, and deletion — typically in constant time (O(1))."
      ],
      "metadata": {
        "id": "DkBvoLOzddEa"
      }
    },
    {
      "cell_type": "markdown",
      "source": [
        "9. Can lists contain different data types in Python?\n",
        "\n",
        "    -> Yes, lists in Python can contain elements of different data types, such as integers, strings, floats, and even other lists or objects."
      ],
      "metadata": {
        "id": "00aWaR3ddogh"
      }
    },
    {
      "cell_type": "markdown",
      "source": [
        "10. Explain why strings are immutable in Python.\n",
        "\n",
        "    -> Strings are immutable in Python because once a string is created, its contents cannot be changed. This design makes strings memory-efficient, secure, and reliable for consistent data handling."
      ],
      "metadata": {
        "id": "HEYc-7oOeBF9"
      }
    },
    {
      "cell_type": "markdown",
      "source": [
        "11. What advantages do dictionaries offer over lists for certain tasks?\n",
        "\n",
        "    -> Dictionaries provide fast access (O(1) time) using keys, allow meaningful labels (keys) for values, and are ideal for representing structured data, making them more efficient than lists for lookup-based tasks."
      ],
      "metadata": {
        "id": "_iSWuLExeLVp"
      }
    },
    {
      "cell_type": "markdown",
      "source": [
        "12. Describe a scenario where using a tuple would be preferable over a list.\n",
        "\n",
        "    -> Tuples are preferable when the data should not change, such as storing the days of the week, fixed GPS coordinates, or constant configuration values. Their immutability ensures data integrity.\n",
        "\n"
      ],
      "metadata": {
        "id": "jP97wtACeVHT"
      }
    },
    {
      "cell_type": "markdown",
      "source": [
        "13.  How do sets handle duplicate values in Python?\n",
        "\n",
        "    -> Sets automatically remove duplicate values. When you add duplicates to a set, only one instance of each unique value is stored."
      ],
      "metadata": {
        "id": "X_ysyx9beak6"
      }
    },
    {
      "cell_type": "markdown",
      "source": [
        "14. How does the “in” keyword work differently for lists and dictionaries?\n",
        "\n",
        "    -> In a list, the in keyword checks if a value exists among the elements. In a dictionary, it checks whether a key (not a value) exists in the dictionary."
      ],
      "metadata": {
        "id": "diTKien2egeo"
      }
    },
    {
      "cell_type": "markdown",
      "source": [
        "15. Can you modify the elements of a tuple? Explain why or why not.\n",
        "\n",
        "    -> No, tuples are immutable, so their elements cannot be modified once the tuple is created. This protects the data from accidental changes."
      ],
      "metadata": {
        "id": "wjFDD2X7enbG"
      }
    },
    {
      "cell_type": "markdown",
      "source": [
        "16. What is a nested dictionary, and give an example of its use case?\n",
        "\n",
        "    -> A nested dictionary is a dictionary that contains another dictionary as its value.\n",
        "    Example:\n",
        "    student = {\"name\": \"Kirti\", \"marks\": {\"math\": 90, \"science\": 85}}\n"
      ],
      "metadata": {
        "id": "ryXGWX1ye1YW"
      }
    },
    {
      "cell_type": "markdown",
      "source": [
        "17. Describe the time complexity of accessing elements in a dictionary.\n",
        "\n",
        "   -> The average time complexity for accessing elements in a dictionary is O(1) due to the use of hashing.\n",
        "\n"
      ],
      "metadata": {
        "id": "36GNnVNZfJ_p"
      }
    },
    {
      "cell_type": "markdown",
      "source": [
        "18. In what situations are lists preferred over dictionaries?\n",
        "\n",
        "    -> Lists are preferred when the order of items matters, or when you need to store items without key-value pairs, such as a sequence of steps or a collection of values without labels.\n",
        "\n"
      ],
      "metadata": {
        "id": "Em-bsxomfReT"
      }
    },
    {
      "cell_type": "markdown",
      "source": [
        "19. Why are dictionaries considered unordered, and how does that affect data retrieval?\n",
        "\n",
        "    -> Dictionaries were unordered before Python 3.7, meaning their items didn’t follow insertion order. From Python 3.7+, they maintain insertion order, but conceptually they still don’t rely on order for data retrieval — access is based on keys, not position.\n",
        "\n"
      ],
      "metadata": {
        "id": "R_uV1xtbfYwA"
      }
    },
    {
      "cell_type": "markdown",
      "source": [
        "20. Explain the difference between a list and a dictionary in terms of data retrieval.\n",
        "\n",
        "    -> In a list, data is retrieved by index (position), while in a dictionary, data is retrieved by key. Lists are useful for ordered collections; dictionaries are better for quick lookups by labels.\n",
        "\n"
      ],
      "metadata": {
        "id": "8SUwtAiCfjBv"
      }
    },
    {
      "cell_type": "markdown",
      "source": [
        "#### Practical Questions"
      ],
      "metadata": {
        "id": "ZFMJQ21Zf1k9"
      }
    },
    {
      "cell_type": "code",
      "source": [
        "#1.Write a code to create a string with your name and print it.\n",
        "name = \"Kirti\"\n",
        "print(name)\n"
      ],
      "metadata": {
        "colab": {
          "base_uri": "https://localhost:8080/"
        },
        "id": "Byc1du26f7G-",
        "outputId": "5988763e-e03f-4490-ecd8-09ffe3f0d047"
      },
      "execution_count": null,
      "outputs": [
        {
          "output_type": "stream",
          "name": "stdout",
          "text": [
            "Kirti\n"
          ]
        }
      ]
    },
    {
      "cell_type": "code",
      "source": [
        "#2. Write a code to find the length of the string \"Hello World\".\n",
        "text = \"Hello World\"\n",
        "print(len(text))\n"
      ],
      "metadata": {
        "colab": {
          "base_uri": "https://localhost:8080/"
        },
        "id": "sy3Lm3tTggU6",
        "outputId": "3fceb3f6-8670-4451-e2ac-be2cedbbede7"
      },
      "execution_count": null,
      "outputs": [
        {
          "output_type": "stream",
          "name": "stdout",
          "text": [
            "11\n"
          ]
        }
      ]
    },
    {
      "cell_type": "code",
      "source": [
        "#3. Write a code to slice the first 3 characters from the string \"Python Programming\".\n",
        "s = \"Python Programming\"\n",
        "print(s[:3])\n"
      ],
      "metadata": {
        "colab": {
          "base_uri": "https://localhost:8080/"
        },
        "id": "MjWCLXqKglCl",
        "outputId": "39c1f61e-9cfd-4a66-8103-5820711e96fe"
      },
      "execution_count": null,
      "outputs": [
        {
          "output_type": "stream",
          "name": "stdout",
          "text": [
            "Pyt\n"
          ]
        }
      ]
    },
    {
      "cell_type": "code",
      "source": [
        "#4. Write a code to convert the string \"hello\" to uppercase.\n",
        "word = \"hello\"\n",
        "print(word.upper())\n"
      ],
      "metadata": {
        "colab": {
          "base_uri": "https://localhost:8080/"
        },
        "id": "p66xnOE-gpU4",
        "outputId": "9120b3e6-59e7-4f2c-c5d8-73dd4324291d"
      },
      "execution_count": null,
      "outputs": [
        {
          "output_type": "stream",
          "name": "stdout",
          "text": [
            "HELLO\n"
          ]
        }
      ]
    },
    {
      "cell_type": "code",
      "source": [
        "#5. Write a code to replace the word \"apple\" with \"orange\" in the string \"I like apple\".\n",
        "sentence = \"I like apple\"\n",
        "print(sentence.replace(\"apple\", \"orange\"))\n"
      ],
      "metadata": {
        "colab": {
          "base_uri": "https://localhost:8080/"
        },
        "id": "SjAbCRP0gyTX",
        "outputId": "5bb48964-4abe-4837-9f56-6562410cb651"
      },
      "execution_count": null,
      "outputs": [
        {
          "output_type": "stream",
          "name": "stdout",
          "text": [
            "I like orange\n"
          ]
        }
      ]
    },
    {
      "cell_type": "code",
      "source": [
        "#6. Write a code to create a list with numbers 1 to 5 and print it.\n",
        "numbers = [1, 2, 3, 4, 5]\n",
        "print(numbers)\n"
      ],
      "metadata": {
        "colab": {
          "base_uri": "https://localhost:8080/"
        },
        "id": "OCG8IKrvg7PH",
        "outputId": "af7890cc-b1de-4936-e840-1e930822d517"
      },
      "execution_count": null,
      "outputs": [
        {
          "output_type": "stream",
          "name": "stdout",
          "text": [
            "[1, 2, 3, 4, 5]\n"
          ]
        }
      ]
    },
    {
      "cell_type": "code",
      "source": [
        "#7. Write a code to append the number 10 to the list [1, 2, 3, 4].\n",
        "lst = [1, 2, 3, 4]\n",
        "lst.append(10)\n",
        "print(lst)\n"
      ],
      "metadata": {
        "colab": {
          "base_uri": "https://localhost:8080/"
        },
        "id": "BudEUQNGhAGe",
        "outputId": "4dec0867-1005-417f-edb6-b74ca3676f9e"
      },
      "execution_count": null,
      "outputs": [
        {
          "output_type": "stream",
          "name": "stdout",
          "text": [
            "[1, 2, 3, 4, 10]\n"
          ]
        }
      ]
    },
    {
      "cell_type": "code",
      "source": [
        "#8. Write a code to remove the number 3 from the list [1, 2, 3, 4, 5].\n",
        "lst = [1, 2, 3, 4, 5]\n",
        "lst.remove(3)\n",
        "print(lst)\n"
      ],
      "metadata": {
        "colab": {
          "base_uri": "https://localhost:8080/"
        },
        "id": "JNjtVlHZhFCW",
        "outputId": "e24824ee-765f-406c-a291-2ec96e8acbea"
      },
      "execution_count": null,
      "outputs": [
        {
          "output_type": "stream",
          "name": "stdout",
          "text": [
            "[1, 2, 4, 5]\n"
          ]
        }
      ]
    },
    {
      "cell_type": "code",
      "source": [
        "#9. Write a code to access the second element in the list ['a', 'b', 'c', 'd'].\n",
        "chars = ['a', 'b', 'c', 'd']\n",
        "print(chars[1])\n"
      ],
      "metadata": {
        "colab": {
          "base_uri": "https://localhost:8080/"
        },
        "id": "z2RpLP7khGMN",
        "outputId": "07e372f6-c735-4c93-9710-2f312baa01cb"
      },
      "execution_count": null,
      "outputs": [
        {
          "output_type": "stream",
          "name": "stdout",
          "text": [
            "b\n"
          ]
        }
      ]
    },
    {
      "cell_type": "code",
      "source": [
        "#10. Write a code to reverse the list [10, 20, 30, 40, 50].\n",
        "lst = [10, 20, 30, 40, 50]\n",
        "lst.reverse()\n",
        "print(lst)\n"
      ],
      "metadata": {
        "colab": {
          "base_uri": "https://localhost:8080/"
        },
        "id": "aaUTcGHvhQNu",
        "outputId": "05b171dd-955d-44dd-c21e-fba3e282ff8f"
      },
      "execution_count": null,
      "outputs": [
        {
          "output_type": "stream",
          "name": "stdout",
          "text": [
            "[50, 40, 30, 20, 10]\n"
          ]
        }
      ]
    },
    {
      "cell_type": "code",
      "source": [
        "#11. Write a code to create a tuple with the elements 100, 200, 300 and print it.\n",
        "my_tuple = (100, 200, 300)\n",
        "print(my_tuple)\n"
      ],
      "metadata": {
        "id": "ab12gbSAh2U0",
        "colab": {
          "base_uri": "https://localhost:8080/"
        },
        "outputId": "c514ae28-5b4b-42a4-96b9-70f2829bdc4e"
      },
      "execution_count": 17,
      "outputs": [
        {
          "output_type": "stream",
          "name": "stdout",
          "text": [
            "(100, 200, 300)\n"
          ]
        }
      ]
    },
    {
      "cell_type": "code",
      "source": [
        "#12. Write a code to access the second-to-last element of the tuple ('red', 'green', 'blue', 'yellow').\n",
        "colors = ('red', 'green', 'blue', 'yellow')\n",
        "print(colors[-2])\n"
      ],
      "metadata": {
        "id": "pFYF-uA9h5th",
        "colab": {
          "base_uri": "https://localhost:8080/"
        },
        "outputId": "7ebb5e00-cb95-4c92-e9c8-95cd4846ecfb"
      },
      "execution_count": 18,
      "outputs": [
        {
          "output_type": "stream",
          "name": "stdout",
          "text": [
            "blue\n"
          ]
        }
      ]
    },
    {
      "cell_type": "code",
      "source": [
        "#13. Write a code to find the minimum number in the tuple (10, 20, 5, 15).\n",
        "numbers = (10, 20, 5, 15)\n",
        "print(min(numbers))\n"
      ],
      "metadata": {
        "id": "OQ33Kpvch7Ev",
        "colab": {
          "base_uri": "https://localhost:8080/"
        },
        "outputId": "ba668627-3668-43b0-c3c9-153a08735655"
      },
      "execution_count": 19,
      "outputs": [
        {
          "output_type": "stream",
          "name": "stdout",
          "text": [
            "5\n"
          ]
        }
      ]
    },
    {
      "cell_type": "code",
      "source": [
        "#14. Write a code to find the index of the element \"cat\" in the tuple ('dog', 'cat', 'rabbit').\n",
        "animals = ('dog', 'cat', 'rabbit')\n",
        "print(animals.index('cat'))\n"
      ],
      "metadata": {
        "id": "fdN1RvF7h8ji",
        "colab": {
          "base_uri": "https://localhost:8080/"
        },
        "outputId": "647fcd98-0d91-4604-a43a-607a86da27e9"
      },
      "execution_count": 20,
      "outputs": [
        {
          "output_type": "stream",
          "name": "stdout",
          "text": [
            "1\n"
          ]
        }
      ]
    },
    {
      "cell_type": "code",
      "source": [
        "#15. Write a code to create a tuple containing three different fruits and check if \"kiwi\" is in it.\n",
        "fruits = ('apple', 'banana', 'kiwi')\n",
        "print('kiwi' in fruits)\n"
      ],
      "metadata": {
        "id": "z7bqES9BiBCb",
        "colab": {
          "base_uri": "https://localhost:8080/"
        },
        "outputId": "9af4532e-2a55-4f89-9b75-2b91d92efa0f"
      },
      "execution_count": 21,
      "outputs": [
        {
          "output_type": "stream",
          "name": "stdout",
          "text": [
            "True\n"
          ]
        }
      ]
    },
    {
      "cell_type": "code",
      "source": [
        "#16. Write a code to create a set with the elements 'a', 'b', 'c' and print it.\n",
        "my_set = {'a', 'b', 'c'}\n",
        "print(my_set)\n"
      ],
      "metadata": {
        "id": "Ox1zXis6iDGC",
        "colab": {
          "base_uri": "https://localhost:8080/"
        },
        "outputId": "9e5e8648-4c16-48a8-fe05-ae8c749b88cb"
      },
      "execution_count": 22,
      "outputs": [
        {
          "output_type": "stream",
          "name": "stdout",
          "text": [
            "{'a', 'b', 'c'}\n"
          ]
        }
      ]
    },
    {
      "cell_type": "code",
      "source": [
        "#17. Write a code to clear all elements from the set {1, 2, 3, 4, 5}.\n",
        "s = {1, 2, 3, 4, 5}\n",
        "s.clear()\n",
        "print(s)\n"
      ],
      "metadata": {
        "id": "nrWsEpEpiErn",
        "colab": {
          "base_uri": "https://localhost:8080/"
        },
        "outputId": "11b03dd8-70a4-49d0-9b4b-1bd3bc6f3624"
      },
      "execution_count": 23,
      "outputs": [
        {
          "output_type": "stream",
          "name": "stdout",
          "text": [
            "set()\n"
          ]
        }
      ]
    },
    {
      "cell_type": "code",
      "source": [
        "#18. Write a code to remove the element 4 from the set {1, 2, 3, 4}.\n",
        "s = {1, 2, 3, 4}\n",
        "s.remove(4)\n",
        "print(s)\n"
      ],
      "metadata": {
        "id": "pKurRGoaiGER",
        "colab": {
          "base_uri": "https://localhost:8080/"
        },
        "outputId": "58382899-a338-43ff-ca3e-f5d9c43fb0e8"
      },
      "execution_count": 24,
      "outputs": [
        {
          "output_type": "stream",
          "name": "stdout",
          "text": [
            "{1, 2, 3}\n"
          ]
        }
      ]
    },
    {
      "cell_type": "code",
      "source": [
        "#19. Write a code to find the union of two sets {1, 2, 3} and {3, 4, 5}.\n",
        "a = {1, 2, 3}\n",
        "b = {3, 4, 5}\n",
        "print(a | b)\n"
      ],
      "metadata": {
        "id": "-yzjLjmziHYl",
        "colab": {
          "base_uri": "https://localhost:8080/"
        },
        "outputId": "606bda41-095d-4c50-cae3-6e0236b82a82"
      },
      "execution_count": 25,
      "outputs": [
        {
          "output_type": "stream",
          "name": "stdout",
          "text": [
            "{1, 2, 3, 4, 5}\n"
          ]
        }
      ]
    },
    {
      "cell_type": "code",
      "source": [
        "#20. Write a code to find the intersection of two sets {1, 2, 3} and {2, 3, 4}.\n",
        "a = {1, 2, 3}\n",
        "b = {2, 3, 4}\n",
        "print(a & b)\n"
      ],
      "metadata": {
        "id": "XWB7wLwliI2j",
        "colab": {
          "base_uri": "https://localhost:8080/"
        },
        "outputId": "d9f8b6a8-eb85-4733-d41c-59d11aa1deb6"
      },
      "execution_count": 26,
      "outputs": [
        {
          "output_type": "stream",
          "name": "stdout",
          "text": [
            "{2, 3}\n"
          ]
        }
      ]
    },
    {
      "cell_type": "code",
      "source": [
        "#21. Write a code to create a dictionary with the keys \"name\", \"age\", and \"city\", and print it.\n",
        "info = {\"name\": \"John\", \"age\": 25, \"city\": \"New York\"}\n",
        "print(info)\n"
      ],
      "metadata": {
        "id": "IapxfTuNiKLu",
        "colab": {
          "base_uri": "https://localhost:8080/"
        },
        "outputId": "f79e2085-c241-48f0-9fa1-4c8e9b2962f7"
      },
      "execution_count": 27,
      "outputs": [
        {
          "output_type": "stream",
          "name": "stdout",
          "text": [
            "{'name': 'John', 'age': 25, 'city': 'New York'}\n"
          ]
        }
      ]
    },
    {
      "cell_type": "code",
      "source": [
        "#22. Write a code to add a new key-value pair \"country\": \"USA\" to the dictionary {'name': 'John', 'age': 25}.\n",
        "person = {'name': 'John', 'age': 25}\n",
        "person['country'] = 'USA'\n",
        "print(person)\n"
      ],
      "metadata": {
        "id": "V_vyMmx3iL0N",
        "colab": {
          "base_uri": "https://localhost:8080/"
        },
        "outputId": "2504dd27-75d9-4bde-eef3-89eecf08b5bb"
      },
      "execution_count": 28,
      "outputs": [
        {
          "output_type": "stream",
          "name": "stdout",
          "text": [
            "{'name': 'John', 'age': 25, 'country': 'USA'}\n"
          ]
        }
      ]
    },
    {
      "cell_type": "code",
      "source": [
        "#23. Write a code to access the value associated with the key \"name\" in the dictionary {'name': 'Alice', 'age': 30}.\n",
        "person = {'name': 'Alice', 'age': 30}\n",
        "print(person['name'])\n"
      ],
      "metadata": {
        "id": "c8n1VxIoiNml",
        "colab": {
          "base_uri": "https://localhost:8080/"
        },
        "outputId": "9c5aa752-eac8-4cd0-c6e7-4fe7ae7600a4"
      },
      "execution_count": 29,
      "outputs": [
        {
          "output_type": "stream",
          "name": "stdout",
          "text": [
            "Alice\n"
          ]
        }
      ]
    },
    {
      "cell_type": "code",
      "source": [
        "#24. Write a code to remove the key \"age\" from the dictionary {'name': 'Bob', 'age': 22, 'city': 'New York'}.\n",
        "person = {'name': 'Bob', 'age': 22, 'city': 'New York'}\n",
        "del person['age']\n",
        "print(person)\n"
      ],
      "metadata": {
        "id": "FhCOYT84iPOO",
        "colab": {
          "base_uri": "https://localhost:8080/"
        },
        "outputId": "6dd277b4-6432-4bfe-be3e-0c5791d3e1f7"
      },
      "execution_count": 30,
      "outputs": [
        {
          "output_type": "stream",
          "name": "stdout",
          "text": [
            "{'name': 'Bob', 'city': 'New York'}\n"
          ]
        }
      ]
    },
    {
      "cell_type": "code",
      "source": [
        "#25. Write a code to check if the key \"city\" exists in the dictionary {'name': 'Alice', 'city': 'Paris'}.\n",
        "person = {'name': 'Alice', 'city': 'Paris'}\n",
        "print('city' in person)\n",
        "\n"
      ],
      "metadata": {
        "id": "FglovqEMiQpx",
        "colab": {
          "base_uri": "https://localhost:8080/"
        },
        "outputId": "59f74df5-4bff-46f9-de16-838b28ff52dd"
      },
      "execution_count": 31,
      "outputs": [
        {
          "output_type": "stream",
          "name": "stdout",
          "text": [
            "True\n"
          ]
        }
      ]
    },
    {
      "cell_type": "code",
      "source": [
        "#26. Write a code to create a list, a tuple, and a dictionary, and print them all.\n",
        "my_list = [1, 2, 3]\n",
        "my_tuple = (4, 5, 6)\n",
        "my_dict = {'a': 1, 'b': 2}\n",
        "print(my_list, my_tuple, my_dict)\n"
      ],
      "metadata": {
        "id": "BlEx8eMjiSPt",
        "colab": {
          "base_uri": "https://localhost:8080/"
        },
        "outputId": "e4119201-bac6-4327-98c8-d894c21b9ffc"
      },
      "execution_count": 32,
      "outputs": [
        {
          "output_type": "stream",
          "name": "stdout",
          "text": [
            "[1, 2, 3] (4, 5, 6) {'a': 1, 'b': 2}\n"
          ]
        }
      ]
    },
    {
      "cell_type": "code",
      "source": [
        "#27. Write a code to create a list of 5 random numbers between 1 and 100, sort it in ascending order, and print the result.(replaced).\n",
        "import random\n",
        "nums = random.sample(range(1, 101), 5)\n",
        "nums.sort()\n",
        "print(nums)\n"
      ],
      "metadata": {
        "id": "I_VdyS-siTtH",
        "colab": {
          "base_uri": "https://localhost:8080/"
        },
        "outputId": "5f5846bd-8333-4ab5-cdba-66c870a9851d"
      },
      "execution_count": 33,
      "outputs": [
        {
          "output_type": "stream",
          "name": "stdout",
          "text": [
            "[13, 29, 83, 97, 98]\n"
          ]
        }
      ]
    },
    {
      "cell_type": "code",
      "source": [
        "#28. Write a code to create a list with strings and print the element at the third index.\n",
        "my_list = ['apple', 'banana', 'cherry', 'date']\n",
        "print(my_list[3])\n"
      ],
      "metadata": {
        "id": "INpocUM3iVdN",
        "colab": {
          "base_uri": "https://localhost:8080/"
        },
        "outputId": "32ae32db-85c0-4b78-cb45-9466c409e345"
      },
      "execution_count": 34,
      "outputs": [
        {
          "output_type": "stream",
          "name": "stdout",
          "text": [
            "date\n"
          ]
        }
      ]
    },
    {
      "cell_type": "code",
      "source": [
        "#29.  Write a code to combine two dictionaries into one and print the result.\n",
        "d1 = {'a': 1, 'b': 2}\n",
        "d2 = {'c': 3, 'd': 4}\n",
        "combined = {**d1, **d2}\n",
        "print(combined)\n",
        "\n"
      ],
      "metadata": {
        "id": "KO6Xwct2iXKU",
        "colab": {
          "base_uri": "https://localhost:8080/"
        },
        "outputId": "4eed64ba-3147-4380-edbf-213e2e951f5e"
      },
      "execution_count": 35,
      "outputs": [
        {
          "output_type": "stream",
          "name": "stdout",
          "text": [
            "{'a': 1, 'b': 2, 'c': 3, 'd': 4}\n"
          ]
        }
      ]
    },
    {
      "cell_type": "code",
      "source": [
        "#30. Write a code to convert a list of strings into a set.\n",
        "words = ['apple', 'banana', 'cherry', 'apple']\n",
        "word_set = set(words)\n",
        "print(word_set)\n"
      ],
      "metadata": {
        "id": "phK2XnwPiY92",
        "colab": {
          "base_uri": "https://localhost:8080/"
        },
        "outputId": "1c8e44b0-2b79-4447-afc5-9202ced0eaa2"
      },
      "execution_count": 36,
      "outputs": [
        {
          "output_type": "stream",
          "name": "stdout",
          "text": [
            "{'banana', 'cherry', 'apple'}\n"
          ]
        }
      ]
    }
  ]
}